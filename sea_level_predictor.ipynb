{
 "cells": [
  {
   "cell_type": "markdown",
   "metadata": {},
   "source": [
    "# Librerias"
   ]
  },
  {
   "cell_type": "code",
   "execution_count": 202,
   "metadata": {},
   "outputs": [],
   "source": [
    "import pandas as pd\r\n",
    "import matplotlib.pyplot as plt\r\n",
    "from scipy.stats import linregress\r\n",
    "from sklearn.model_selection import train_test_split as tts\r\n",
    "from sklearn.linear_model import LinearRegression\r\n",
    "import numpy as np"
   ]
  },
  {
   "cell_type": "markdown",
   "metadata": {},
   "source": [
    "# Loading dataset"
   ]
  },
  {
   "cell_type": "code",
   "execution_count": 203,
   "metadata": {},
   "outputs": [
    {
     "data": {
      "text/html": "<div>\n<style scoped>\n    .dataframe tbody tr th:only-of-type {\n        vertical-align: middle;\n    }\n\n    .dataframe tbody tr th {\n        vertical-align: top;\n    }\n\n    .dataframe thead th {\n        text-align: right;\n    }\n</style>\n<table border=\"1\" class=\"dataframe\">\n  <thead>\n    <tr style=\"text-align: right;\">\n      <th></th>\n      <th>Year</th>\n      <th>CSIRO Adjusted Sea Level</th>\n      <th>Lower Error Bound</th>\n      <th>Upper Error Bound</th>\n      <th>NOAA Adjusted Sea Level</th>\n    </tr>\n  </thead>\n  <tbody>\n    <tr>\n      <th>0</th>\n      <td>1880</td>\n      <td>0.000000</td>\n      <td>-0.952756</td>\n      <td>0.952756</td>\n      <td>NaN</td>\n    </tr>\n    <tr>\n      <th>1</th>\n      <td>1881</td>\n      <td>0.220472</td>\n      <td>-0.732283</td>\n      <td>1.173228</td>\n      <td>NaN</td>\n    </tr>\n    <tr>\n      <th>2</th>\n      <td>1882</td>\n      <td>-0.440945</td>\n      <td>-1.346457</td>\n      <td>0.464567</td>\n      <td>NaN</td>\n    </tr>\n    <tr>\n      <th>3</th>\n      <td>1883</td>\n      <td>-0.232283</td>\n      <td>-1.129921</td>\n      <td>0.665354</td>\n      <td>NaN</td>\n    </tr>\n    <tr>\n      <th>4</th>\n      <td>1884</td>\n      <td>0.590551</td>\n      <td>-0.283465</td>\n      <td>1.464567</td>\n      <td>NaN</td>\n    </tr>\n    <tr>\n      <th>...</th>\n      <td>...</td>\n      <td>...</td>\n      <td>...</td>\n      <td>...</td>\n      <td>...</td>\n    </tr>\n    <tr>\n      <th>129</th>\n      <td>2009</td>\n      <td>8.586614</td>\n      <td>8.311024</td>\n      <td>8.862205</td>\n      <td>8.046354</td>\n    </tr>\n    <tr>\n      <th>130</th>\n      <td>2010</td>\n      <td>8.901575</td>\n      <td>8.618110</td>\n      <td>9.185039</td>\n      <td>8.122973</td>\n    </tr>\n    <tr>\n      <th>131</th>\n      <td>2011</td>\n      <td>8.964567</td>\n      <td>8.661417</td>\n      <td>9.267717</td>\n      <td>8.053065</td>\n    </tr>\n    <tr>\n      <th>132</th>\n      <td>2012</td>\n      <td>9.326772</td>\n      <td>8.992126</td>\n      <td>9.661417</td>\n      <td>8.457058</td>\n    </tr>\n    <tr>\n      <th>133</th>\n      <td>2013</td>\n      <td>8.980315</td>\n      <td>8.622047</td>\n      <td>9.338583</td>\n      <td>8.546648</td>\n    </tr>\n  </tbody>\n</table>\n<p>134 rows × 5 columns</p>\n</div>",
      "text/plain": "     Year  CSIRO Adjusted Sea Level  Lower Error Bound  Upper Error Bound  \\\n0    1880                  0.000000          -0.952756           0.952756   \n1    1881                  0.220472          -0.732283           1.173228   \n2    1882                 -0.440945          -1.346457           0.464567   \n3    1883                 -0.232283          -1.129921           0.665354   \n4    1884                  0.590551          -0.283465           1.464567   \n..    ...                       ...                ...                ...   \n129  2009                  8.586614           8.311024           8.862205   \n130  2010                  8.901575           8.618110           9.185039   \n131  2011                  8.964567           8.661417           9.267717   \n132  2012                  9.326772           8.992126           9.661417   \n133  2013                  8.980315           8.622047           9.338583   \n\n     NOAA Adjusted Sea Level  \n0                        NaN  \n1                        NaN  \n2                        NaN  \n3                        NaN  \n4                        NaN  \n..                       ...  \n129                 8.046354  \n130                 8.122973  \n131                 8.053065  \n132                 8.457058  \n133                 8.546648  \n\n[134 rows x 5 columns]"
     },
     "execution_count": 203,
     "metadata": {},
     "output_type": "execute_result"
    }
   ],
   "source": [
    "df = pd.read_csv('epa-sea-level.csv')\r\n",
    "df"
   ]
  },
  {
   "cell_type": "markdown",
   "metadata": {},
   "source": [
    "# Usando matplotlib para pintar una nube de puntos con el Año y CSIRO "
   ]
  },
  {
   "cell_type": "code",
   "execution_count": 204,
   "metadata": {},
   "outputs": [
    {
     "data": {
      "text/plain": "<matplotlib.collections.PathCollection at 0x2ab9eba9f70>"
     },
     "execution_count": 204,
     "metadata": {},
     "output_type": "execute_result"
    },
    {
     "data": {
      "image/png": "[encoded data removed]",
      "text/plain": "<Figure size 432x288 with 1 Axes>"
     },
     "metadata": {
      "needs_background": "light"
     },
     "output_type": "display_data"
    }
   ],
   "source": [
    "plt.xlabel('Year')\r\n",
    "plt.ylabel('CSIRO Adjusted Sea Level')\r\n",
    "plt.scatter(x=df['Year'], y=df['CSIRO Adjusted Sea Level'])"
   ]
  },
  {
   "cell_type": "markdown",
   "metadata": {},
   "source": [
    "# Creando la nueva linea que prediga el comportamiento del nivel del mar para 2050"
   ]
  },
  {
   "cell_type": "code",
   "execution_count": 205,
   "metadata": {},
   "outputs": [],
   "source": [
    "\"\"\" Limpiando la columna de NOAA llena de valores nulos \"\"\"\r\n",
    "df1 = df.drop('NOAA Adjusted Sea Level', axis=1)"
   ]
  },
  {
   "cell_type": "code",
   "execution_count": 206,
   "metadata": {},
   "outputs": [],
   "source": [
    "def train_val_test_split (df, rstate=42, shuffle=True, stratify=None):\r\n",
    "    \"\"\" Funcion para dividir los datos \"\"\"\r\n",
    "    \r\n",
    "    if stratify != None:\r\n",
    "        strat = df[stratify]\r\n",
    "    else:\r\n",
    "        strat=None\r\n",
    "    \r\n",
    "    train_set, test_set = tts(df, test_size=0.4, random_state=rstate, shuffle=shuffle, stratify=strat)\r\n",
    "    if stratify != None:\r\n",
    "        strat = test_set[stratify]\r\n",
    "    else:\r\n",
    "        strat=None\r\n",
    "    test_set, val_set = tts(test_set, test_size=0.5, random_state=rstate, shuffle=shuffle, stratify=strat)\r\n",
    "    return (train_set, val_set, test_set)"
   ]
  },
  {
   "cell_type": "code",
   "execution_count": 207,
   "metadata": {},
   "outputs": [
    {
     "name": "stdout",
     "output_type": "stream",
     "text": [
      "Entrenamiento: 80\n",
      "Validacion: 27\n",
      "Pruebas: 27\n"
     ]
    }
   ],
   "source": [
    "train_set, val_set, test_set = train_val_test_split(df1, rstate=42)\r\n",
    "print('Entrenamiento:', len(train_set))\r\n",
    "print('Validacion:', len(val_set))\r\n",
    "print('Pruebas:', len(test_set))"
   ]
  },
  {
   "cell_type": "markdown",
   "metadata": {},
   "source": [
    "## Separando las caracteristicas de entrada de las de salida"
   ]
  },
  {
   "cell_type": "code",
   "execution_count": 208,
   "metadata": {},
   "outputs": [],
   "source": [
    "# Para el conjunto de datos general\r\n",
    "x_df = df1.drop(['CSIRO Adjusted Sea Level', 'Lower Error Bound', 'Upper Error Bound'], axis=1)\r\n",
    "y_df = df1['CSIRO Adjusted Sea Level'].copy()\r\n",
    "\r\n",
    "# Para el conjunto de datos de entrenamiento\r\n",
    "x_train = train_set.drop(['CSIRO Adjusted Sea Level', 'Lower Error Bound', 'Upper Error Bound'], axis=1)\r\n",
    "y_train = train_set['CSIRO Adjusted Sea Level'].copy()\r\n",
    "\r\n",
    "# Para el conjunto de datos de validacion \r\n",
    "x_val = val_set.drop(['CSIRO Adjusted Sea Level', 'Lower Error Bound', 'Upper Error Bound'], axis=1)\r\n",
    "y_val = val_set['CSIRO Adjusted Sea Level'].copy()\r\n",
    "\r\n",
    "# Conjunto de datos de pruebas\r\n",
    "x_test = test_set.drop(['CSIRO Adjusted Sea Level', 'Lower Error Bound', 'Upper Error Bound'], axis=1)\r\n",
    "y_test = test_set['CSIRO Adjusted Sea Level'].copy()"
   ]
  },
  {
   "cell_type": "code",
   "execution_count": 209,
   "metadata": {},
   "outputs": [],
   "source": [
    "\"\"\" Creacion del algoritmo \"\"\"\r\n",
    "linreg = LinearRegression()\r\n",
    "reg = linreg.fit(x_train, y_train)"
   ]
  },
  {
   "cell_type": "code",
   "execution_count": 210,
   "metadata": {},
   "outputs": [
    {
     "data": {
      "text/plain": "array([ 5.57868218,  3.54597165,  6.91264847,  1.1321279 ,  6.97617067,\n        3.22836063, -0.32888279,  3.80006047,  0.62395027,  1.70382774,\n        2.40257198,  5.7692488 ,  2.27552757,  0.17929484,  3.67301606,\n        2.08496096,  2.97427182,  0.05225043,  3.73653827, -0.58297161,\n       -0.01127177,  1.38621671,  5.832771  ,  4.68937133,  7.16673728,\n        0.94156129,  6.40447084])"
     },
     "execution_count": 210,
     "metadata": {},
     "output_type": "execute_result"
    }
   ],
   "source": [
    "\"\"\" Prediccion de nuevos ejemplos \"\"\"\r\n",
    "y_pred = reg.predict(x_val)\r\n",
    "y_pred"
   ]
  },
  {
   "cell_type": "code",
   "execution_count": 211,
   "metadata": {},
   "outputs": [
    {
     "data": {
      "text/plain": "0.9694147912603175"
     },
     "execution_count": 211,
     "metadata": {},
     "output_type": "execute_result"
    }
   ],
   "source": [
    "\"\"\" Analizando la precision \"\"\"\r\n",
    "reg.score(x_train, y_train)"
   ]
  },
  {
   "cell_type": "code",
   "execution_count": 212,
   "metadata": {},
   "outputs": [
    {
     "name": "stderr",
     "output_type": "stream",
     "text": [
      "D:\\Tirso\\Programacion\\Python\\Python397\\lib\\site-packages\\sklearn\\base.py:450: UserWarning: X does not have valid feature names, but LinearRegression was fitted with feature names\n",
      "  warnings.warn(\n"
     ]
    }
   ],
   "source": [
    "\"\"\" Prediciendo para el 2050 \"\"\"\r\n",
    "prediction = linreg.predict(np.array([[2050]]))"
   ]
  },
  {
   "cell_type": "code",
   "execution_count": 1,
   "metadata": {},
   "outputs": [
    {
     "ename": "NameError",
     "evalue": "name 'ax' is not defined",
     "output_type": "error",
     "traceback": [
      "\u001b[1;31m---------------------------------------------------------------------------\u001b[0m",
      "\u001b[1;31mNameError\u001b[0m                                 Traceback (most recent call last)",
      "\u001b[1;32mC:\\Users\\Public\\Documents\\Wondershare\\CreatorTemp/ipykernel_8316/1749999384.py\u001b[0m in \u001b[0;36m<module>\u001b[1;34m\u001b[0m\n\u001b[1;32m----> 1\u001b[1;33m \u001b[0max\u001b[0m\u001b[1;33m.\u001b[0m\u001b[0mget_lines\u001b[0m\u001b[1;33m(\u001b[0m\u001b[1;33m)\u001b[0m\u001b[1;33m[\u001b[0m\u001b[1;36m1\u001b[0m\u001b[1;33m]\u001b[0m\u001b[1;33m.\u001b[0m\u001b[0mget_ydata\u001b[0m\u001b[1;33m(\u001b[0m\u001b[1;33m)\u001b[0m\u001b[1;33m\u001b[0m\u001b[1;33m\u001b[0m\u001b[0m\n\u001b[0m",
      "\u001b[1;31mNameError\u001b[0m: name 'ax' is not defined"
     ]
    }
   ],
   "source": []
  },
  {
   "cell_type": "code",
   "execution_count": 213,
   "metadata": {},
   "outputs": [
    {
     "data": {
      "text/html": "<div>\n<style scoped>\n    .dataframe tbody tr th:only-of-type {\n        vertical-align: middle;\n    }\n\n    .dataframe tbody tr th {\n        vertical-align: top;\n    }\n\n    .dataframe thead th {\n        text-align: right;\n    }\n</style>\n<table border=\"1\" class=\"dataframe\">\n  <thead>\n    <tr style=\"text-align: right;\">\n      <th></th>\n      <th>Year</th>\n      <th>CSIRO Adjusted Sea Level</th>\n      <th>Lower Error Bound</th>\n      <th>Upper Error Bound</th>\n      <th>NOAA Adjusted Sea Level</th>\n    </tr>\n  </thead>\n  <tbody>\n    <tr>\n      <th>0</th>\n      <td>1880.0</td>\n      <td>0.000000</td>\n      <td>-0.952756</td>\n      <td>0.952756</td>\n      <td>NaN</td>\n    </tr>\n    <tr>\n      <th>1</th>\n      <td>1881.0</td>\n      <td>0.220472</td>\n      <td>-0.732283</td>\n      <td>1.173228</td>\n      <td>NaN</td>\n    </tr>\n    <tr>\n      <th>2</th>\n      <td>1882.0</td>\n      <td>-0.440945</td>\n      <td>-1.346457</td>\n      <td>0.464567</td>\n      <td>NaN</td>\n    </tr>\n    <tr>\n      <th>3</th>\n      <td>1883.0</td>\n      <td>-0.232283</td>\n      <td>-1.129921</td>\n      <td>0.665354</td>\n      <td>NaN</td>\n    </tr>\n    <tr>\n      <th>4</th>\n      <td>1884.0</td>\n      <td>0.590551</td>\n      <td>-0.283465</td>\n      <td>1.464567</td>\n      <td>NaN</td>\n    </tr>\n    <tr>\n      <th>...</th>\n      <td>...</td>\n      <td>...</td>\n      <td>...</td>\n      <td>...</td>\n      <td>...</td>\n    </tr>\n    <tr>\n      <th>130</th>\n      <td>2010.0</td>\n      <td>8.901575</td>\n      <td>8.618110</td>\n      <td>9.185039</td>\n      <td>8.122973</td>\n    </tr>\n    <tr>\n      <th>131</th>\n      <td>2011.0</td>\n      <td>8.964567</td>\n      <td>8.661417</td>\n      <td>9.267717</td>\n      <td>8.053065</td>\n    </tr>\n    <tr>\n      <th>132</th>\n      <td>2012.0</td>\n      <td>9.326772</td>\n      <td>8.992126</td>\n      <td>9.661417</td>\n      <td>8.457058</td>\n    </tr>\n    <tr>\n      <th>133</th>\n      <td>2013.0</td>\n      <td>8.980315</td>\n      <td>8.622047</td>\n      <td>9.338583</td>\n      <td>8.546648</td>\n    </tr>\n    <tr>\n      <th>134</th>\n      <td>2050.0</td>\n      <td>10.215803</td>\n      <td>NaN</td>\n      <td>NaN</td>\n      <td>NaN</td>\n    </tr>\n  </tbody>\n</table>\n<p>135 rows × 5 columns</p>\n</div>",
      "text/plain": "       Year  CSIRO Adjusted Sea Level  Lower Error Bound  Upper Error Bound  \\\n0    1880.0                  0.000000          -0.952756           0.952756   \n1    1881.0                  0.220472          -0.732283           1.173228   \n2    1882.0                 -0.440945          -1.346457           0.464567   \n3    1883.0                 -0.232283          -1.129921           0.665354   \n4    1884.0                  0.590551          -0.283465           1.464567   \n..      ...                       ...                ...                ...   \n130  2010.0                  8.901575           8.618110           9.185039   \n131  2011.0                  8.964567           8.661417           9.267717   \n132  2012.0                  9.326772           8.992126           9.661417   \n133  2013.0                  8.980315           8.622047           9.338583   \n134  2050.0                 10.215803                NaN                NaN   \n\n     NOAA Adjusted Sea Level  \n0                        NaN  \n1                        NaN  \n2                        NaN  \n3                        NaN  \n4                        NaN  \n..                       ...  \n130                 8.122973  \n131                 8.053065  \n132                 8.457058  \n133                 8.546648  \n134                      NaN  \n\n[135 rows x 5 columns]"
     },
     "execution_count": 213,
     "metadata": {},
     "output_type": "execute_result"
    }
   ],
   "source": [
    "df2=df.append({'Year' : 2050 , 'CSIRO Adjusted Sea Level' : prediction[0]} , ignore_index=True)\r\n",
    "df2"
   ]
  },
  {
   "cell_type": "markdown",
   "metadata": {},
   "source": [
    "# Best Line plot up to 2050"
   ]
  },
  {
   "cell_type": "code",
   "execution_count": 214,
   "metadata": {},
   "outputs": [
    {
     "data": {
      "text/html": "<div>\n<style scoped>\n    .dataframe tbody tr th:only-of-type {\n        vertical-align: middle;\n    }\n\n    .dataframe tbody tr th {\n        vertical-align: top;\n    }\n\n    .dataframe thead th {\n        text-align: right;\n    }\n</style>\n<table border=\"1\" class=\"dataframe\">\n  <thead>\n    <tr style=\"text-align: right;\">\n      <th></th>\n      <th>Year</th>\n      <th>CSIRO Adjusted Sea Level</th>\n      <th>Lower Error Bound</th>\n      <th>Upper Error Bound</th>\n      <th>NOAA Adjusted Sea Level</th>\n    </tr>\n  </thead>\n  <tbody>\n    <tr>\n      <th>0</th>\n      <td>1880</td>\n      <td>0.000000</td>\n      <td>-0.952756</td>\n      <td>0.952756</td>\n      <td>NaN</td>\n    </tr>\n    <tr>\n      <th>1</th>\n      <td>1881</td>\n      <td>0.220472</td>\n      <td>-0.732283</td>\n      <td>1.173228</td>\n      <td>NaN</td>\n    </tr>\n    <tr>\n      <th>2</th>\n      <td>1882</td>\n      <td>-0.440945</td>\n      <td>-1.346457</td>\n      <td>0.464567</td>\n      <td>NaN</td>\n    </tr>\n    <tr>\n      <th>3</th>\n      <td>1883</td>\n      <td>-0.232283</td>\n      <td>-1.129921</td>\n      <td>0.665354</td>\n      <td>NaN</td>\n    </tr>\n    <tr>\n      <th>4</th>\n      <td>1884</td>\n      <td>0.590551</td>\n      <td>-0.283465</td>\n      <td>1.464567</td>\n      <td>NaN</td>\n    </tr>\n    <tr>\n      <th>...</th>\n      <td>...</td>\n      <td>...</td>\n      <td>...</td>\n      <td>...</td>\n      <td>...</td>\n    </tr>\n    <tr>\n      <th>129</th>\n      <td>2009</td>\n      <td>8.586614</td>\n      <td>8.311024</td>\n      <td>8.862205</td>\n      <td>8.046354</td>\n    </tr>\n    <tr>\n      <th>130</th>\n      <td>2010</td>\n      <td>8.901575</td>\n      <td>8.618110</td>\n      <td>9.185039</td>\n      <td>8.122973</td>\n    </tr>\n    <tr>\n      <th>131</th>\n      <td>2011</td>\n      <td>8.964567</td>\n      <td>8.661417</td>\n      <td>9.267717</td>\n      <td>8.053065</td>\n    </tr>\n    <tr>\n      <th>132</th>\n      <td>2012</td>\n      <td>9.326772</td>\n      <td>8.992126</td>\n      <td>9.661417</td>\n      <td>8.457058</td>\n    </tr>\n    <tr>\n      <th>133</th>\n      <td>2013</td>\n      <td>8.980315</td>\n      <td>8.622047</td>\n      <td>9.338583</td>\n      <td>8.546648</td>\n    </tr>\n  </tbody>\n</table>\n<p>134 rows × 5 columns</p>\n</div>",
      "text/plain": "     Year  CSIRO Adjusted Sea Level  Lower Error Bound  Upper Error Bound  \\\n0    1880                  0.000000          -0.952756           0.952756   \n1    1881                  0.220472          -0.732283           1.173228   \n2    1882                 -0.440945          -1.346457           0.464567   \n3    1883                 -0.232283          -1.129921           0.665354   \n4    1884                  0.590551          -0.283465           1.464567   \n..    ...                       ...                ...                ...   \n129  2009                  8.586614           8.311024           8.862205   \n130  2010                  8.901575           8.618110           9.185039   \n131  2011                  8.964567           8.661417           9.267717   \n132  2012                  9.326772           8.992126           9.661417   \n133  2013                  8.980315           8.622047           9.338583   \n\n     NOAA Adjusted Sea Level  \n0                        NaN  \n1                        NaN  \n2                        NaN  \n3                        NaN  \n4                        NaN  \n..                       ...  \n129                 8.046354  \n130                 8.122973  \n131                 8.053065  \n132                 8.457058  \n133                 8.546648  \n\n[134 rows x 5 columns]"
     },
     "execution_count": 214,
     "metadata": {},
     "output_type": "execute_result"
    }
   ],
   "source": [
    "df = pd.read_csv('epa-sea-level.csv')\r\n",
    "df"
   ]
  },
  {
   "cell_type": "code",
   "execution_count": 217,
   "metadata": {},
   "outputs": [
    {
     "data": {
      "text/plain": "Text(0.5, 1.0, 'Rise in Sea Level')"
     },
     "execution_count": 217,
     "metadata": {},
     "output_type": "execute_result"
    },
    {
     "data": {
      "image/png": "[encoded data removed]",
      "text/plain": "<Figure size 432x288 with 1 Axes>"
     },
     "metadata": {
      "needs_background": "light"
     },
     "output_type": "display_data"
    }
   ],
   "source": [
    "plt.scatter(x=df2['Year'], y=df2['CSIRO Adjusted Sea Level'], color='red', s=3)\r\n",
    "plt.plot([df1['Year'][0], 2050], [df1['CSIRO Adjusted Sea Level'][0], prediction[0]], c='blue')\r\n",
    "plt.xlabel('Year')\r\n",
    "plt.ylabel('Sea Level (inches)')\r\n",
    "plt.title('Rise in Sea Level')"
   ]
  },
  {
   "cell_type": "code",
   "execution_count": 2,
   "metadata": {},
   "outputs": [
    {
     "ename": "NameError",
     "evalue": "name 'ax' is not defined",
     "output_type": "error",
     "traceback": [
      "\u001b[1;31m---------------------------------------------------------------------------\u001b[0m",
      "\u001b[1;31mNameError\u001b[0m                                 Traceback (most recent call last)",
      "\u001b[1;32mC:\\Users\\Public\\Documents\\Wondershare\\CreatorTemp/ipykernel_8316/659734117.py\u001b[0m in \u001b[0;36m<module>\u001b[1;34m\u001b[0m\n\u001b[1;32m----> 1\u001b[1;33m \u001b[0max\u001b[0m\u001b[1;33m.\u001b[0m\u001b[0mget_lines\u001b[0m\u001b[1;33m(\u001b[0m\u001b[1;33m)\u001b[0m\u001b[1;33m[\u001b[0m\u001b[1;36m1\u001b[0m\u001b[1;33m]\u001b[0m\u001b[1;33m.\u001b[0m\u001b[0mget_ydata\u001b[0m\u001b[1;33m(\u001b[0m\u001b[1;33m)\u001b[0m\u001b[1;33m\u001b[0m\u001b[1;33m\u001b[0m\u001b[0m\n\u001b[0m",
      "\u001b[1;31mNameError\u001b[0m: name 'ax' is not defined"
     ]
    }
   ],
   "source": [
    "ax.get_lines()[1].get_ydata()\r\n"
   ]
  },
  {
   "cell_type": "markdown",
   "metadata": {},
   "source": [
    "# Creando la segunda linea a partir del 2000"
   ]
  },
  {
   "cell_type": "code",
   "execution_count": 234,
   "metadata": {},
   "outputs": [
    {
     "data": {
      "text/html": "<div>\n<style scoped>\n    .dataframe tbody tr th:only-of-type {\n        vertical-align: middle;\n    }\n\n    .dataframe tbody tr th {\n        vertical-align: top;\n    }\n\n    .dataframe thead th {\n        text-align: right;\n    }\n</style>\n<table border=\"1\" class=\"dataframe\">\n  <thead>\n    <tr style=\"text-align: right;\">\n      <th></th>\n      <th>Year</th>\n      <th>CSIRO Adjusted Sea Level</th>\n    </tr>\n  </thead>\n  <tbody>\n    <tr>\n      <th>120</th>\n      <td>2000.0</td>\n      <td>7.062992</td>\n    </tr>\n    <tr>\n      <th>121</th>\n      <td>2001.0</td>\n      <td>7.287402</td>\n    </tr>\n    <tr>\n      <th>122</th>\n      <td>2002.0</td>\n      <td>7.381890</td>\n    </tr>\n    <tr>\n      <th>123</th>\n      <td>2003.0</td>\n      <td>7.759843</td>\n    </tr>\n    <tr>\n      <th>124</th>\n      <td>2004.0</td>\n      <td>7.740157</td>\n    </tr>\n    <tr>\n      <th>125</th>\n      <td>2005.0</td>\n      <td>7.744094</td>\n    </tr>\n    <tr>\n      <th>126</th>\n      <td>2006.0</td>\n      <td>7.917323</td>\n    </tr>\n    <tr>\n      <th>127</th>\n      <td>2007.0</td>\n      <td>7.996063</td>\n    </tr>\n    <tr>\n      <th>128</th>\n      <td>2008.0</td>\n      <td>8.350394</td>\n    </tr>\n    <tr>\n      <th>129</th>\n      <td>2009.0</td>\n      <td>8.586614</td>\n    </tr>\n    <tr>\n      <th>130</th>\n      <td>2010.0</td>\n      <td>8.901575</td>\n    </tr>\n    <tr>\n      <th>131</th>\n      <td>2011.0</td>\n      <td>8.964567</td>\n    </tr>\n    <tr>\n      <th>132</th>\n      <td>2012.0</td>\n      <td>9.326772</td>\n    </tr>\n    <tr>\n      <th>133</th>\n      <td>2013.0</td>\n      <td>8.980315</td>\n    </tr>\n  </tbody>\n</table>\n</div>",
      "text/plain": "       Year  CSIRO Adjusted Sea Level\n120  2000.0                  7.062992\n121  2001.0                  7.287402\n122  2002.0                  7.381890\n123  2003.0                  7.759843\n124  2004.0                  7.740157\n125  2005.0                  7.744094\n126  2006.0                  7.917323\n127  2007.0                  7.996063\n128  2008.0                  8.350394\n129  2009.0                  8.586614\n130  2010.0                  8.901575\n131  2011.0                  8.964567\n132  2012.0                  9.326772\n133  2013.0                  8.980315"
     },
     "execution_count": 234,
     "metadata": {},
     "output_type": "execute_result"
    }
   ],
   "source": [
    "\"\"\" Making the second line df \"\"\"\r\n",
    "dfsl = df.copy()\r\n",
    "dfsl['CSIRO Adjusted Sea Level'] = dfsl['CSIRO Adjusted Sea Level'][120:]\r\n",
    "dfsl['Year'] = df['Year'][120:]\r\n",
    "dfsl = dfsl.dropna()\r\n",
    "dfsl = dfsl.drop(['Lower Error Bound', 'Upper Error Bound', 'NOAA Adjusted Sea Level'], axis=1)\r\n"
   ]
  },
  {
   "cell_type": "markdown",
   "metadata": {},
   "source": [
    "## Second line algorithm"
   ]
  },
  {
   "cell_type": "code",
   "execution_count": 264,
   "metadata": {},
   "outputs": [
    {
     "name": "stdout",
     "output_type": "stream",
     "text": [
      "0.9411054997275448\n"
     ]
    },
    {
     "name": "stderr",
     "output_type": "stream",
     "text": [
      "D:\\Tirso\\Programacion\\Python\\Python397\\lib\\site-packages\\sklearn\\base.py:450: UserWarning: X does not have valid feature names, but LinearRegression was fitted with feature names\n",
      "  warnings.warn(\n"
     ]
    },
    {
     "data": {
      "text/plain": "Text(0.5, 1.0, 'Rise in Sea Level')"
     },
     "execution_count": 264,
     "metadata": {},
     "output_type": "execute_result"
    },
    {
     "data": {
      "image/png": "[encoded data removed]",
      "text/plain": "<Figure size 432x288 with 1 Axes>"
     },
     "metadata": {
      "needs_background": "light"
     },
     "output_type": "display_data"
    }
   ],
   "source": [
    "def train_val_test_split (df, rstate=42, shuffle=True, stratify=None):\r\n",
    "        \"\"\" Funcion para dividir los datos \"\"\"\r\n",
    "        \r\n",
    "        if stratify != None:\r\n",
    "            strat = df[stratify]\r\n",
    "        else:\r\n",
    "            strat=None\r\n",
    "        \r\n",
    "        train_set, test_set = tts(df, test_size=0.4, random_state=rstate, shuffle=shuffle, stratify=strat)\r\n",
    "        if stratify != None:\r\n",
    "            strat = test_set[stratify]\r\n",
    "        else:\r\n",
    "            strat=None\r\n",
    "        test_set, val_set = tts(test_set, test_size=0.5, random_state=rstate, shuffle=shuffle, stratify=strat)\r\n",
    "        return (train_set, val_set, test_set)\r\n",
    "\r\n",
    "train_set, val_set, test_set = train_val_test_split(dfsl, rstate=42)\r\n",
    "# Para el conjunto de datos general\r\n",
    "x_df = dfsl.drop(['CSIRO Adjusted Sea Level'], axis=1)\r\n",
    "y_df = dfsl['CSIRO Adjusted Sea Level'].copy()\r\n",
    "\r\n",
    "# Para el conjunto de datos de entrenamiento\r\n",
    "x_train = train_set.drop(['CSIRO Adjusted Sea Level'], axis=1)\r\n",
    "y_train = train_set['CSIRO Adjusted Sea Level'].copy()\r\n",
    "\r\n",
    "# Para el conjunto de datos de validacion \r\n",
    "x_val = val_set.drop(['CSIRO Adjusted Sea Level'], axis=1)\r\n",
    "y_val = val_set['CSIRO Adjusted Sea Level'].copy()\r\n",
    "\r\n",
    "# Conjunto de datos de pruebas\r\n",
    "x_test = test_set.drop(['CSIRO Adjusted Sea Level'], axis=1)\r\n",
    "y_test = test_set['CSIRO Adjusted Sea Level'].copy()\r\n",
    "\r\n",
    "\"\"\" Creacion del algoritmo \"\"\"\r\n",
    "linreg = LinearRegression()\r\n",
    "reg = linreg.fit(x_train, y_train)\r\n",
    "\r\n",
    "\"\"\" Prediccion de nuevos ejemplos \"\"\"\r\n",
    "y_pred = reg.predict(x_val)\r\n",
    "\r\n",
    "\"\"\" Analizando la precision \"\"\"\r\n",
    "prec = reg.score(x_train, y_train)\r\n",
    "print(prec)\r\n",
    "\"\"\" Prediciendo para el 2050 \"\"\"\r\n",
    "prediction = linreg.predict(np.array([[2050]]))\r\n",
    "\r\n",
    "\"\"\" Dibujando la prediccion \"\"\"\r\n",
    "plt.title('')\r\n",
    "plt.scatter(x=dfsl['Year'], y=dfsl['CSIRO Adjusted Sea Level'], color='red', s=3)\r\n",
    "plt.plot([dfsl['Year'][120], 2050], [dfsl['CSIRO Adjusted Sea Level'][120], prediction[0]], c='blue')\r\n",
    "plt.xlabel('Year')\r\n",
    "plt.ylabel('Sea Level (inches)')\r\n",
    "plt.title('Rise in Sea Level')"
   ]
  }
 ],
 "metadata": {
  "kernelspec": {
   "display_name": "Python 3.9.7 64-bit",
   "name": "python397jvsc74a57bd05e3651e26f3391829cf4126c07293d52b8bf77fdedc2c5220856a0a5cd568942"
  },
  "language_info": {
   "codemirror_mode": {
    "name": "ipython",
    "version": 3
   },
   "file_extension": ".py",
   "mimetype": "text/x-python",
   "name": "python",
   "nbconvert_exporter": "python",
   "pygments_lexer": "ipython3",
   "version": "3.9.7"
  },
  "orig_nbformat": 2
 },
 "nbformat": 4,
 "nbformat_minor": 2
}